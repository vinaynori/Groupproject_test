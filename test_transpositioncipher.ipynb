{
 "cells": [
  {
   "cell_type": "code",
   "execution_count": 2,
   "metadata": {},
   "outputs": [
    {
     "name": "stderr",
     "output_type": "stream",
     "text": [
      "test_trandecrypt (__main__.Testtranspositioncipher) ... ok\n",
      "test_tranencrypt (__main__.Testtranspositioncipher) ... "
     ]
    },
    {
     "name": "stdout",
     "output_type": "stream",
     "text": [
      "setUpClass is run only once\n",
      "Tear Down\n",
      "Tear Down\n",
      "Tear Down class\n"
     ]
    },
    {
     "name": "stderr",
     "output_type": "stream",
     "text": [
      "ok\n",
      "\n",
      "----------------------------------------------------------------------\n",
      "Ran 2 tests in 0.003s\n",
      "\n",
      "OK\n"
     ]
    },
    {
     "data": {
      "text/plain": [
       "<unittest.main.TestProgram at 0x241c27de048>"
      ]
     },
     "execution_count": 2,
     "metadata": {},
     "output_type": "execute_result"
    }
   ],
   "source": [
    "import unittest\n",
    "from Secretmsg.Complexencryption import Transpositioncipher\n",
    "class Testtranspositioncipher(unittest.TestCase): \n",
    "    def setUp(self):\n",
    "        self.p1=Transpositioncipher.Transpositioncipher()\n",
    "        self.p2=Transpositioncipher.Transpositioncipher()  \n",
    "    def tearDown(self):\n",
    "        print('Tear Down')\n",
    "\n",
    "    def test_tranencrypt(self):         \n",
    "        self.assertEqual(self.p1.tranencrypt(3,\"hello\"),'hleol') \n",
    "        self.assertEqual(self.p2.tranencrypt(3,\"help\"),'hpel') \n",
    "        self.assertEqual(self.p2.tranencrypt(3,\"I am Awesome\"),'Imwo  emaAse')\n",
    "        self.assertEqual(self.p1.tranencrypt(2,\"I am Awesome\"),'Ia wsm mAeoe')\n",
    "        self.assertNotEqual(self.p1.tranencrypt(3,\"I am Awesome\"),'L#dp#Dzhvrph')\n",
    "    \n",
    "    def test_trandecrypt(self):\n",
    "        self.assertEqual(self.p1.trandecrypt(3,\"hleol\"),'hello') \n",
    "        self.assertEqual(self.p2.trandecrypt(3,\"hpel\"),'help') \n",
    "        self.assertEqual(self.p2.trandecrypt(3,\"Imwo  emaAse\"),'I am Awesome')\n",
    "        self.assertEqual(self.p1.trandecrypt(2,'Ia wsm mAeoe'),'I am Awesome')\n",
    "        self.assertNotEqual(self.p1.trandecrypt(3,'L#dp#Dzhvrph'),'I am Awesome')\n",
    "    \n",
    "    @classmethod\n",
    "    def setUpClass(cls):\n",
    "        print(\"setUpClass is run only once\")\n",
    "        \n",
    "    @classmethod\n",
    "    def tearDownClass(cls):\n",
    "        print(\"Tear Down class\")\n",
    "        \n",
    "\n",
    "unittest.main(argv=[''], verbosity=2, exit=False)"
   ]
  },
  {
   "cell_type": "code",
   "execution_count": null,
   "metadata": {},
   "outputs": [],
   "source": []
  }
 ],
 "metadata": {
  "kernelspec": {
   "display_name": "Python 3",
   "language": "python",
   "name": "python3"
  },
  "language_info": {
   "codemirror_mode": {
    "name": "ipython",
    "version": 3
   },
   "file_extension": ".py",
   "mimetype": "text/x-python",
   "name": "python",
   "nbconvert_exporter": "python",
   "pygments_lexer": "ipython3",
   "version": "3.7.3"
  }
 },
 "nbformat": 4,
 "nbformat_minor": 2
}
